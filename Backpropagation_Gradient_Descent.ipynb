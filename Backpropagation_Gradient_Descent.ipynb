{
 "cells": [
  {
   "cell_type": "code",
   "execution_count": 1,
   "metadata": {},
   "outputs": [],
   "source": [
    "#Libraries\n",
    "import numpy as np\n",
    "import matplotlib.pyplot as plt\n",
    "import timeit\n",
    "from sklearn.metrics import mean_squared_error"
   ]
  },
  {
   "cell_type": "code",
   "execution_count": 2,
   "metadata": {},
   "outputs": [],
   "source": [
    "# Activation functions\n",
    "def ReLU(x):\n",
    "    return x * (x > 0)\n",
    "\n",
    "def Sig(x):\n",
    "    return 1/(1+np.exp(-x))\n",
    "\n",
    "def onehot(X):\n",
    "    T = np.zeros((X.shape[0],np.max(X)+1))\n",
    "    T[np.arange(len(X)),X] = 1 #Set T[i,X[i]] to 1\n",
    "    return T\n",
    "\n",
    "# feed forward function\n",
    "def ff(w0,w1,w2,b0,b1,b2,x):\n",
    "    # First Hidden calculations\n",
    "    h0 = x.dot(w0)+ b0 \n",
    "    h0 = ReLU(h0)\n",
    " \n",
    "  # Second Hidden calculations\n",
    "    h1 = h0.dot(w1) + b1\n",
    "    h1 = ReLU(h1)\n",
    "\n",
    "  # output calculations\n",
    "    ff = h1.dot(w2) + b2\n",
    "    ff = Sig(ff)\n",
    "    return ff"
   ]
  },
  {
   "cell_type": "code",
   "execution_count": 3,
   "metadata": {},
   "outputs": [],
   "source": [
    "# data preprocessing\n",
    "xtrain = np.loadtxt('xtrain.txt', delimiter=',')\n",
    "xtrain /= 255\n",
    "ytrain = np.loadtxt('ytrain.txt', delimiter=',').astype(int)\n",
    "ytrain = onehot(ytrain)\n",
    "xtest = np.loadtxt('xtest.txt', delimiter=',')\n",
    "xtest /= 255\n",
    "ytest = np.loadtxt('ytest.txt', delimiter=',').astype(int)"
   ]
  },
  {
   "cell_type": "code",
   "execution_count": 4,
   "metadata": {},
   "outputs": [],
   "source": [
    "# randomly-chosen set of weights and biase\n",
    "s = 0.2\n",
    "W0 = (np.random.rand(784,512)-0.5)*s\n",
    "W1 = (np.random.rand(512,512)-0.5)*s\n",
    "W2 = (np.random.rand(512,10)-0.5)*s\n",
    "\n",
    "B0 = (np.random.rand(512,)-0.5)*s\n",
    "B1 = (np.random.rand(512,)-0.5)*s\n",
    "B2 = (np.random.rand(10,)-0.5)*s"
   ]
  },
  {
   "cell_type": "code",
   "execution_count": 5,
   "metadata": {},
   "outputs": [
    {
     "name": "stdout",
     "output_type": "stream",
     "text": [
      "running time:  77.77 s\n"
     ]
    }
   ],
   "source": [
    "#backpropagation and Gradient Descent\n",
    "error = []\n",
    "start = timeit.default_timer()\n",
    "for i in range (1000):    \n",
    "    #randomly chosen subset\n",
    "    k = np.random.randint(60000, size=1000)\n",
    "    x_b = xtrain[k,:]\n",
    "    y_b = ytrain[k,]\n",
    "    \n",
    "    # computing forward pass\n",
    "    H0 = ReLU(x_b.dot(W0)+ B0)\n",
    " \n",
    "    # Second Hidden calculations\n",
    "    H1 = ReLU(H0.dot(W1) + B1)\n",
    "\n",
    "    # output calculations\n",
    "    P = Sig(H1.dot(W2) + B2)\n",
    "    \n",
    "    # error\n",
    "    error.append(mean_squared_error(y_b, P))\n",
    "    \n",
    "    # error gradient for last layer\n",
    "    dP = (y_b - P) * P * (1-P)\n",
    "    \n",
    "    #Compute error gradient for hidden layers\n",
    "    dH1 = (dP .dot(np.transpose(W2)))* np.sign(H1)\n",
    "    dH0 =(dH1.dot(np.transpose(W1)))* np.sign(H0)\n",
    "    \n",
    "    #Update weights and biases\n",
    "    l = 0.001\n",
    "    W2 = W2 + l * (np.transpose(H1).dot(dP))\n",
    "    W1 = W1 + l * (np.transpose(H0).dot(dH1))\n",
    "    W0 = W0 + l * (np.transpose(x_b).dot(dH0))\n",
    "\n",
    "    B2 = B2 + l * dP.sum(axis = 0)\n",
    "    B1 = B1 + l * dH1.sum(axis = 0)\n",
    "    B0 = B0 + l * dH0.sum(axis = 0)\n",
    " \n",
    "stop = timeit.default_timer()\n",
    "print('running time: ', round(stop - start,2), 's')"
   ]
  },
  {
   "cell_type": "code",
   "execution_count": 6,
   "metadata": {},
   "outputs": [
    {
     "name": "stdout",
     "output_type": "stream",
     "text": [
      "accuracy: 96.78 %\n"
     ]
    }
   ],
   "source": [
    "# test \n",
    "Output = ff(W0,W1,W2,B0,B1,B2,xtest)\n",
    "Output = np.argmax(Output, axis = 1)\n",
    "\n",
    "#Accuracy\n",
    "accuracy = (np.count_nonzero(Output==ytest)/10000 ) * 100     \n",
    "print('accuracy:', round(accuracy,2), '%') "
   ]
  },
  {
   "cell_type": "code",
   "execution_count": 7,
   "metadata": {},
   "outputs": [
    {
     "name": "stdout",
     "output_type": "stream",
     "text": [
      "[[ 969    0    7    1    1    5   10    1    4    6]\n",
      " [   0 1120    1    1    0    1    3    9    2    6]\n",
      " [   1    3 1000    7    3    1    2   14    3    2]\n",
      " [   3    2    5  974    0    7    1    1   10   10]\n",
      " [   1    0    2    0  958    2    3    3    4   13]\n",
      " [   1    2    1   11    0  863    9    1    9    6]\n",
      " [   2    4    5    0    6    7  927    0   12    2]\n",
      " [   2    1    7   10    3    1    2  993    6   10]\n",
      " [   1    3    4    4    2    2    1    1  922    2]\n",
      " [   0    0    0    2    9    3    0    5    2  952]]\n"
     ]
    }
   ],
   "source": [
    "# Making the Confusion Matrix\n",
    "from sklearn.metrics import confusion_matrix        \n",
    "cm = confusion_matrix(Output, ytest)    \n",
    "print(cm)"
   ]
  },
  {
   "cell_type": "code",
   "execution_count": 8,
   "metadata": {},
   "outputs": [
    {
     "data": {
      "image/png": "[encoded data removed]",
      "text/plain": [
       "<Figure size 432x288 with 1 Axes>"
      ]
     },
     "metadata": {
      "needs_background": "light"
     },
     "output_type": "display_data"
    }
   ],
   "source": [
    "# plot error vs iterations\n",
    "plt.plot( error, 'r')\n",
    "plt.xlabel('Iteration')\n",
    "plt.ylabel('Error')\n",
    "plt.show()"
   ]
  }
 ],
 "metadata": {
  "kernelspec": {
   "display_name": "Python 3",
   "language": "python",
   "name": "python3"
  },
  "language_info": {
   "codemirror_mode": {
    "name": "ipython",
    "version": 3
   },
   "file_extension": ".py",
   "mimetype": "text/x-python",
   "name": "python",
   "nbconvert_exporter": "python",
   "pygments_lexer": "ipython3",
   "version": "3.7.4"
  }
 },
 "nbformat": 4,
 "nbformat_minor": 2
}
